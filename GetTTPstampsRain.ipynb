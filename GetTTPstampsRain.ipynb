{
 "cells": [
  {
   "cell_type": "code",
   "execution_count": null,
   "metadata": {},
   "outputs": [],
   "source": [
    "%reload_ext autoreload\n",
    "%autoreload 2\n",
    "# %matplotlib notebook\n",
    "\n",
    "import pandas as pd\n",
    "import numpy as np\n",
    "from os import listdir\n",
    "import matplotlib.pyplot as plt\n",
    "from scipy import stats\n",
    "from TomsFunctions2 import *\n",
    "import pickle\n",
    "\n",
    "def save_obj(obj, name, path = 'obj/'):\n",
    "    with open(path + name + '.pkl', 'wb') as f:\n",
    "        pickle.dump(obj, f, pickle.HIGHEST_PROTOCOL)\n",
    "\n",
    "def load_obj(name, path = 'obj/'):\n",
    "    with open(path + name + '.pkl', 'rb') as f:\n",
    "        return pickle.load(f)\n",
    "    \n",
    "def slice_df(df, col, lb = -np.inf, ub = np.inf):\n",
    "    # slice dataframe between lowerbound (lb) and upper bound (ub) \n",
    "    # in colum (col) of dataframe (df)\n",
    "    return df.loc[(df[col] < ub) & (df[col] > lb)]\n",
    "\n",
    "stamps2 = load_obj('stampsRain')\n",
    "participants = load_obj('participants')\n",
    "\n"
   ]
  },
  {
   "cell_type": "markdown",
   "metadata": {},
   "source": [
    "# Change the next cell\n",
    "to change the participant path. Unchanged it will assume there is a subdirectory called Participants.\n"
   ]
  },
  {
   "cell_type": "code",
   "execution_count": null,
   "metadata": {},
   "outputs": [],
   "source": [
    "participantfolder = 'Participants'"
   ]
  },
  {
   "cell_type": "code",
   "execution_count": null,
   "metadata": {},
   "outputs": [],
   "source": [
    "#add ttp9 col if it doesnt exist\n",
    "try:\n",
    "    stamps2['ttp9']\n",
    "except:\n",
    "    stamps2 = pd.concat([stamps2[['participant', 'run', 'slice_no', 't_pass', 'direction']], pd.DataFrame({'ttp9': [np.nan]*len(stamps2)})], axis = 1)"
   ]
  },
  {
   "cell_type": "markdown",
   "metadata": {},
   "source": [
    "### The next two cells will take some minutes. It gets the TTP stamps for first five encounters (front vehicles). "
   ]
  },
  {
   "cell_type": "code",
   "execution_count": null,
   "metadata": {
    "scrolled": true
   },
   "outputs": [],
   "source": [
    "stamps2 = ttp_rain_front('noucrain',stamps2,participantfolder)"
   ]
  },
  {
   "cell_type": "code",
   "execution_count": null,
   "metadata": {
    "scrolled": true
   },
   "outputs": [],
   "source": [
    "stamps2 = ttp_rain_front('ucrain', stamps2,participantfolder)"
   ]
  },
  {
   "cell_type": "markdown",
   "metadata": {},
   "source": [
    "## For vehicles from rear"
   ]
  },
  {
   "cell_type": "code",
   "execution_count": null,
   "metadata": {
    "scrolled": true
   },
   "outputs": [],
   "source": [
    "stamps2 = ttp_rain_back('noucrain', stamps2,participantfolder)\n"
   ]
  },
  {
   "cell_type": "code",
   "execution_count": null,
   "metadata": {
    "scrolled": true
   },
   "outputs": [],
   "source": [
    "stamps2 = ttp_rain_back('ucrain', stamps2,participantfolder)\n",
    "\n"
   ]
  },
  {
   "cell_type": "code",
   "execution_count": null,
   "metadata": {},
   "outputs": [],
   "source": [
    "newstamps = pd.concat([stamps2[['participant', 'run', 'direction']], \n",
    "                       pd.DataFrame({'t90': [np.nan]*len(stamps2)}),\n",
    "                       pd.DataFrame({'t_ttp9': stamps2['ttp9']}),\n",
    "                       pd.DataFrame({'nearestto9':[np.nan]*len(stamps2)}),\n",
    "                       stamps2['t_pass']], axis = 1)"
   ]
  },
  {
   "cell_type": "code",
   "execution_count": null,
   "metadata": {},
   "outputs": [],
   "source": [
    "save_obj(newstamps, 'rainstamps_final')"
   ]
  },
  {
   "cell_type": "code",
   "execution_count": null,
   "metadata": {},
   "outputs": [],
   "source": [
    "newstamps"
   ]
  },
  {
   "cell_type": "code",
   "execution_count": null,
   "metadata": {},
   "outputs": [],
   "source": []
  }
 ],
 "metadata": {
  "kernelspec": {
   "display_name": "Python 3",
   "language": "python",
   "name": "python3"
  },
  "language_info": {
   "codemirror_mode": {
    "name": "ipython",
    "version": 3
   },
   "file_extension": ".py",
   "mimetype": "text/x-python",
   "name": "python",
   "nbconvert_exporter": "python",
   "pygments_lexer": "ipython3",
   "version": "3.7.2"
  }
 },
 "nbformat": 4,
 "nbformat_minor": 2
}
