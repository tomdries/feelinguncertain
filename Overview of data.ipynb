{
 "cells": [
  {
   "cell_type": "markdown",
   "metadata": {},
   "source": [
    "# Data included in this repository\n",
    "\n",
    "This repository contains various data, which can be found in the obj folder.\n",
    "\n",
    "The data in this repository is stored as .csv or as .pkl files which we open with the following helper scripts:"
   ]
  },
  {
   "cell_type": "code",
   "execution_count": 10,
   "metadata": {},
   "outputs": [],
   "source": [
    "import pickle\n",
    "import pandas as pd\n",
    "\n",
    "def save_obj(obj, name, path = 'obj/'):\n",
    "    with open(path + name + '.pkl', 'wb') as f:\n",
    "        pickle.dump(obj, f, pickle.HIGHEST_PROTOCOL)\n",
    "\n",
    "def load_obj(name, path = 'obj/'):\n",
    "    with open(path + name + '.pkl', 'rb') as f:\n",
    "        return pickle.load(f)\n"
   ]
  },
  {
   "cell_type": "markdown",
   "metadata": {},
   "source": [
    "The following files are stored in /obj:"
   ]
  },
  {
   "cell_type": "code",
   "execution_count": 4,
   "metadata": {},
   "outputs": [
    {
     "name": "stdout",
     "output_type": "stream",
     "text": [
      "MTTCnoucfog.pkl     NASATLX_df.csv      participants.pkl    stored_info.pkl\r\n",
      "MTTCnouctun.pkl     fogstamps_final.pkl stampsRain.pkl      vandelaan_df.csv\r\n",
      "MTTCuctun.pkl       gaze_df.csv         stampswithttc9.pkl\r\n"
     ]
    }
   ],
   "source": [
    "!ls obj"
   ]
  },
  {
   "cell_type": "markdown",
   "metadata": {},
   "source": [
    "We look at each individually and give a short explanation of what it contains.\n",
    "\n",
    "## MTTCnoucfog.pkl, MTTCnouctun.pkl, MTTCuctun.pkl\n",
    "\n",
    "This is a dataframe containing the MTTC value of each trial, for the noucfog (MC-HU), nouctun (MU-HU) and uctun (MU-HU-uc) experimental conditions. The mean of one participant's values formed the MTTC score used in the statistical comparisons. The first five rows of this dataframe look like:"
   ]
  },
  {
   "cell_type": "code",
   "execution_count": 9,
   "metadata": {},
   "outputs": [
    {
     "data": {
      "text/html": [
       "<div>\n",
       "<style scoped>\n",
       "    .dataframe tbody tr th:only-of-type {\n",
       "        vertical-align: middle;\n",
       "    }\n",
       "\n",
       "    .dataframe tbody tr th {\n",
       "        vertical-align: top;\n",
       "    }\n",
       "\n",
       "    .dataframe thead th {\n",
       "        text-align: right;\n",
       "    }\n",
       "</style>\n",
       "<table border=\"1\" class=\"dataframe\">\n",
       "  <thead>\n",
       "    <tr style=\"text-align: right;\">\n",
       "      <th></th>\n",
       "      <th>participant</th>\n",
       "      <th>noucfog</th>\n",
       "    </tr>\n",
       "  </thead>\n",
       "  <tbody>\n",
       "    <tr>\n",
       "      <th>0</th>\n",
       "      <td>XSMS</td>\n",
       "      <td>2.79964</td>\n",
       "    </tr>\n",
       "    <tr>\n",
       "      <th>1</th>\n",
       "      <td>XSMS</td>\n",
       "      <td>2.85026</td>\n",
       "    </tr>\n",
       "    <tr>\n",
       "      <th>2</th>\n",
       "      <td>XSMS</td>\n",
       "      <td>3.68373</td>\n",
       "    </tr>\n",
       "    <tr>\n",
       "      <th>3</th>\n",
       "      <td>SPPV</td>\n",
       "      <td>3.74172</td>\n",
       "    </tr>\n",
       "    <tr>\n",
       "      <th>4</th>\n",
       "      <td>SPPV</td>\n",
       "      <td>3.26643</td>\n",
       "    </tr>\n",
       "  </tbody>\n",
       "</table>\n",
       "</div>"
      ],
      "text/plain": [
       "  participant  noucfog\n",
       "0        XSMS  2.79964\n",
       "1        XSMS  2.85026\n",
       "2        XSMS  3.68373\n",
       "3        SPPV  3.74172\n",
       "4        SPPV  3.26643"
      ]
     },
     "execution_count": 9,
     "metadata": {},
     "output_type": "execute_result"
    }
   ],
   "source": [
    "load_obj('MTTCnoucfog').head()"
   ]
  },
  {
   "cell_type": "markdown",
   "metadata": {},
   "source": [
    "## NASATLX_df.csv\n",
    "\n",
    "Raw TLX scores of participants"
   ]
  },
  {
   "cell_type": "code",
   "execution_count": 13,
   "metadata": {},
   "outputs": [
    {
     "data": {
      "text/html": [
       "<div>\n",
       "<style scoped>\n",
       "    .dataframe tbody tr th:only-of-type {\n",
       "        vertical-align: middle;\n",
       "    }\n",
       "\n",
       "    .dataframe tbody tr th {\n",
       "        vertical-align: top;\n",
       "    }\n",
       "\n",
       "    .dataframe thead th {\n",
       "        text-align: right;\n",
       "    }\n",
       "</style>\n",
       "<table border=\"1\" class=\"dataframe\">\n",
       "  <thead>\n",
       "    <tr style=\"text-align: right;\">\n",
       "      <th></th>\n",
       "      <th>id</th>\n",
       "      <th>wl_nouctun</th>\n",
       "      <th>wl_noucfog</th>\n",
       "      <th>wl_noucrain</th>\n",
       "      <th>wl_uctun</th>\n",
       "      <th>wl_ucrain</th>\n",
       "    </tr>\n",
       "  </thead>\n",
       "  <tbody>\n",
       "    <tr>\n",
       "      <th>0</th>\n",
       "      <td>NNTZ</td>\n",
       "      <td>74.166667</td>\n",
       "      <td>42.500000</td>\n",
       "      <td>20.833333</td>\n",
       "      <td>66.666667</td>\n",
       "      <td>23.333333</td>\n",
       "    </tr>\n",
       "    <tr>\n",
       "      <th>1</th>\n",
       "      <td>XSMS</td>\n",
       "      <td>61.666667</td>\n",
       "      <td>61.666667</td>\n",
       "      <td>22.500000</td>\n",
       "      <td>58.333333</td>\n",
       "      <td>18.333333</td>\n",
       "    </tr>\n",
       "    <tr>\n",
       "      <th>2</th>\n",
       "      <td>ZPQX</td>\n",
       "      <td>65.833333</td>\n",
       "      <td>53.333333</td>\n",
       "      <td>40.000000</td>\n",
       "      <td>51.666667</td>\n",
       "      <td>40.000000</td>\n",
       "    </tr>\n",
       "    <tr>\n",
       "      <th>3</th>\n",
       "      <td>TTQW</td>\n",
       "      <td>31.666667</td>\n",
       "      <td>31.666667</td>\n",
       "      <td>14.166667</td>\n",
       "      <td>29.166667</td>\n",
       "      <td>11.666667</td>\n",
       "    </tr>\n",
       "    <tr>\n",
       "      <th>4</th>\n",
       "      <td>TWOU</td>\n",
       "      <td>54.166667</td>\n",
       "      <td>55.000000</td>\n",
       "      <td>35.833333</td>\n",
       "      <td>55.000000</td>\n",
       "      <td>39.166667</td>\n",
       "    </tr>\n",
       "    <tr>\n",
       "      <th>5</th>\n",
       "      <td>OYWO</td>\n",
       "      <td>70.000000</td>\n",
       "      <td>21.666667</td>\n",
       "      <td>12.500000</td>\n",
       "      <td>51.666667</td>\n",
       "      <td>26.666667</td>\n",
       "    </tr>\n",
       "    <tr>\n",
       "      <th>6</th>\n",
       "      <td>SPPV</td>\n",
       "      <td>49.166667</td>\n",
       "      <td>40.833333</td>\n",
       "      <td>33.333333</td>\n",
       "      <td>39.166667</td>\n",
       "      <td>25.000000</td>\n",
       "    </tr>\n",
       "    <tr>\n",
       "      <th>7</th>\n",
       "      <td>PVOU</td>\n",
       "      <td>46.666667</td>\n",
       "      <td>39.166667</td>\n",
       "      <td>15.833333</td>\n",
       "      <td>68.333333</td>\n",
       "      <td>30.833333</td>\n",
       "    </tr>\n",
       "    <tr>\n",
       "      <th>8</th>\n",
       "      <td>TTVN</td>\n",
       "      <td>77.500000</td>\n",
       "      <td>60.833333</td>\n",
       "      <td>9.166667</td>\n",
       "      <td>60.000000</td>\n",
       "      <td>24.166667</td>\n",
       "    </tr>\n",
       "    <tr>\n",
       "      <th>9</th>\n",
       "      <td>WVPV</td>\n",
       "      <td>46.666667</td>\n",
       "      <td>19.166667</td>\n",
       "      <td>10.833333</td>\n",
       "      <td>45.000000</td>\n",
       "      <td>16.666667</td>\n",
       "    </tr>\n",
       "    <tr>\n",
       "      <th>10</th>\n",
       "      <td>PVNT</td>\n",
       "      <td>79.166667</td>\n",
       "      <td>40.833333</td>\n",
       "      <td>30.833333</td>\n",
       "      <td>55.833333</td>\n",
       "      <td>35.000000</td>\n",
       "    </tr>\n",
       "    <tr>\n",
       "      <th>11</th>\n",
       "      <td>QPMS</td>\n",
       "      <td>45.000000</td>\n",
       "      <td>30.000000</td>\n",
       "      <td>34.166667</td>\n",
       "      <td>43.333333</td>\n",
       "      <td>27.500000</td>\n",
       "    </tr>\n",
       "    <tr>\n",
       "      <th>12</th>\n",
       "      <td>UVUM</td>\n",
       "      <td>60.000000</td>\n",
       "      <td>18.333333</td>\n",
       "      <td>14.166667</td>\n",
       "      <td>43.333333</td>\n",
       "      <td>15.000000</td>\n",
       "    </tr>\n",
       "    <tr>\n",
       "      <th>13</th>\n",
       "      <td>MVNT</td>\n",
       "      <td>46.666667</td>\n",
       "      <td>39.166667</td>\n",
       "      <td>15.000000</td>\n",
       "      <td>40.000000</td>\n",
       "      <td>14.166667</td>\n",
       "    </tr>\n",
       "  </tbody>\n",
       "</table>\n",
       "</div>"
      ],
      "text/plain": [
       "      id  wl_nouctun  wl_noucfog  wl_noucrain   wl_uctun  wl_ucrain\n",
       "0   NNTZ   74.166667   42.500000    20.833333  66.666667  23.333333\n",
       "1   XSMS   61.666667   61.666667    22.500000  58.333333  18.333333\n",
       "2   ZPQX   65.833333   53.333333    40.000000  51.666667  40.000000\n",
       "3   TTQW   31.666667   31.666667    14.166667  29.166667  11.666667\n",
       "4   TWOU   54.166667   55.000000    35.833333  55.000000  39.166667\n",
       "5   OYWO   70.000000   21.666667    12.500000  51.666667  26.666667\n",
       "6   SPPV   49.166667   40.833333    33.333333  39.166667  25.000000\n",
       "7   PVOU   46.666667   39.166667    15.833333  68.333333  30.833333\n",
       "8   TTVN   77.500000   60.833333     9.166667  60.000000  24.166667\n",
       "9   WVPV   46.666667   19.166667    10.833333  45.000000  16.666667\n",
       "10  PVNT   79.166667   40.833333    30.833333  55.833333  35.000000\n",
       "11  QPMS   45.000000   30.000000    34.166667  43.333333  27.500000\n",
       "12  UVUM   60.000000   18.333333    14.166667  43.333333  15.000000\n",
       "13  MVNT   46.666667   39.166667    15.000000  40.000000  14.166667"
      ]
     },
     "execution_count": 13,
     "metadata": {},
     "output_type": "execute_result"
    }
   ],
   "source": [
    "pd.read_csv('obj/NASATLX_df.csv', index_col = 0)"
   ]
  },
  {
   "cell_type": "markdown",
   "metadata": {},
   "source": [
    "## fogstamps_final.pkl\n",
    "\n",
    "Timestamps for foggy scenario's that indicate the start (t_ttp9) and end (t_pass) of trials. These time stamps are used to slice a raw recording into a smaller time fragment that represents the trial. How the ttp9 stamps were obtained can be found in the notebook Preprocessing.ipynb.\n",
    "\n",
    "The first five entries look as follows:"
   ]
  },
  {
   "cell_type": "code",
   "execution_count": 15,
   "metadata": {},
   "outputs": [
    {
     "data": {
      "text/html": [
       "<div>\n",
       "<style scoped>\n",
       "    .dataframe tbody tr th:only-of-type {\n",
       "        vertical-align: middle;\n",
       "    }\n",
       "\n",
       "    .dataframe tbody tr th {\n",
       "        vertical-align: top;\n",
       "    }\n",
       "\n",
       "    .dataframe thead th {\n",
       "        text-align: right;\n",
       "    }\n",
       "</style>\n",
       "<table border=\"1\" class=\"dataframe\">\n",
       "  <thead>\n",
       "    <tr style=\"text-align: right;\">\n",
       "      <th></th>\n",
       "      <th>participant</th>\n",
       "      <th>run</th>\n",
       "      <th>direction</th>\n",
       "      <th>t90</th>\n",
       "      <th>t_pass</th>\n",
       "      <th>t_ttp9</th>\n",
       "    </tr>\n",
       "  </thead>\n",
       "  <tbody>\n",
       "    <tr>\n",
       "      <th>0</th>\n",
       "      <td>XSMS</td>\n",
       "      <td>noucfog</td>\n",
       "      <td>FL</td>\n",
       "      <td>28730</td>\n",
       "      <td>37200</td>\n",
       "      <td>28160.000000</td>\n",
       "    </tr>\n",
       "    <tr>\n",
       "      <th>1</th>\n",
       "      <td>XSMS</td>\n",
       "      <td>noucfog</td>\n",
       "      <td>FR</td>\n",
       "      <td>41560</td>\n",
       "      <td>57140</td>\n",
       "      <td>40300.000000</td>\n",
       "    </tr>\n",
       "    <tr>\n",
       "      <th>2</th>\n",
       "      <td>XSMS</td>\n",
       "      <td>noucfog</td>\n",
       "      <td>FL</td>\n",
       "      <td>65890</td>\n",
       "      <td>74880</td>\n",
       "      <td>66020.000000</td>\n",
       "    </tr>\n",
       "    <tr>\n",
       "      <th>3</th>\n",
       "      <td>XSMS</td>\n",
       "      <td>noucfog</td>\n",
       "      <td>BL</td>\n",
       "      <td>81380</td>\n",
       "      <td>92100</td>\n",
       "      <td>83000.007812</td>\n",
       "    </tr>\n",
       "    <tr>\n",
       "      <th>4</th>\n",
       "      <td>XSMS</td>\n",
       "      <td>noucfog</td>\n",
       "      <td>BR</td>\n",
       "      <td>98150</td>\n",
       "      <td>110010</td>\n",
       "      <td>100033.343750</td>\n",
       "    </tr>\n",
       "  </tbody>\n",
       "</table>\n",
       "</div>"
      ],
      "text/plain": [
       "  participant      run direction    t90  t_pass         t_ttp9\n",
       "0        XSMS  noucfog        FL  28730   37200   28160.000000\n",
       "1        XSMS  noucfog        FR  41560   57140   40300.000000\n",
       "2        XSMS  noucfog        FL  65890   74880   66020.000000\n",
       "3        XSMS  noucfog        BL  81380   92100   83000.007812\n",
       "4        XSMS  noucfog        BR  98150  110010  100033.343750"
      ]
     },
     "execution_count": 15,
     "metadata": {},
     "output_type": "execute_result"
    }
   ],
   "source": [
    "load_obj('fogstamps_final').head()"
   ]
  },
  {
   "cell_type": "markdown",
   "metadata": {},
   "source": [
    "## gaze_df.csv\n",
    "\n",
    "See Analysis B.ipynb for an explanation\n",
    "\n",
    "## participants.pkl\n",
    "\n",
    "A list of the 14 participant IDs:\n"
   ]
  },
  {
   "cell_type": "code",
   "execution_count": 23,
   "metadata": {},
   "outputs": [
    {
     "data": {
      "text/plain": [
       "['XSMS',\n",
       " 'SPPV',\n",
       " 'TTQW',\n",
       " 'NNTZ',\n",
       " 'TWOU',\n",
       " 'MVNT',\n",
       " 'ZPQX',\n",
       " 'PVNT',\n",
       " 'OYWO',\n",
       " 'PVOU',\n",
       " 'WVPV',\n",
       " 'TTVN',\n",
       " 'QPMS',\n",
       " 'UVUM']"
      ]
     },
     "execution_count": 23,
     "metadata": {},
     "output_type": "execute_result"
    }
   ],
   "source": [
    "load_obj('participants')"
   ]
  },
  {
   "cell_type": "code",
   "execution_count": null,
   "metadata": {},
   "outputs": [],
   "source": []
  }
 ],
 "metadata": {
  "kernelspec": {
   "display_name": "Python 3",
   "language": "python",
   "name": "python3"
  },
  "language_info": {
   "codemirror_mode": {
    "name": "ipython",
    "version": 3
   },
   "file_extension": ".py",
   "mimetype": "text/x-python",
   "name": "python",
   "nbconvert_exporter": "python",
   "pygments_lexer": "ipython3",
   "version": "3.7.3"
  }
 },
 "nbformat": 4,
 "nbformat_minor": 2
}
